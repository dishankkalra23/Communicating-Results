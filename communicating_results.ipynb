{
 "cells": [
  {
   "cell_type": "markdown",
   "metadata": {},
   "source": [
    "# Drawing Conclusions and Communicating Results\n",
    "Using `store_data.csv` to answer the quiz questions below."
   ]
  },
  {
   "cell_type": "code",
   "execution_count": 46,
   "metadata": {},
   "outputs": [],
   "source": [
    "# imports and load data\n",
    "import pandas as pd\n",
    "import numpy as np\n",
    "import matplotlib.pyplot as plt\n",
    "import seaborn as sns\n",
    "\n",
    "df = pd.read_csv('store_data.csv')"
   ]
  },
  {
   "cell_type": "code",
   "execution_count": 83,
   "metadata": {},
   "outputs": [
    {
     "data": {
      "text/html": [
       "<a download=\"data.csv\" href=\"data:text/csv;base64,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\" target=\"_blank\">Download CSV file</a>"
      ],
      "text/plain": [
       "<IPython.core.display.HTML object>"
      ]
     },
     "execution_count": 83,
     "metadata": {},
     "output_type": "execute_result"
    }
   ],
   "source": [
    "# Downloading csv file from notebook\n",
    "\n",
    "import base64\n",
    "from IPython.display import HTML\n",
    "\n",
    "def create_download_link( df, title = \"Download CSV file\", filename = \"data.csv\"):  \n",
    "    csv = df.to_csv()\n",
    "    b64 = base64.b64encode(csv.encode())\n",
    "    payload = b64.decode()\n",
    "    html = '<a download=\"{filename}\" href=\"data:text/csv;base64,{payload}\" target=\"_blank\">{title}</a>'\n",
    "    html = html.format(payload=payload,title=title,filename=filename)\n",
    "    return HTML(html)\n",
    "\n",
    "create_download_link(df)"
   ]
  },
  {
   "cell_type": "code",
   "execution_count": 47,
   "metadata": {},
   "outputs": [
    {
     "data": {
      "text/html": [
       "<div>\n",
       "<style scoped>\n",
       "    .dataframe tbody tr th:only-of-type {\n",
       "        vertical-align: middle;\n",
       "    }\n",
       "\n",
       "    .dataframe tbody tr th {\n",
       "        vertical-align: top;\n",
       "    }\n",
       "\n",
       "    .dataframe thead th {\n",
       "        text-align: right;\n",
       "    }\n",
       "</style>\n",
       "<table border=\"1\" class=\"dataframe\">\n",
       "  <thead>\n",
       "    <tr style=\"text-align: right;\">\n",
       "      <th></th>\n",
       "      <th>week</th>\n",
       "      <th>storeA</th>\n",
       "      <th>storeB</th>\n",
       "      <th>storeC</th>\n",
       "      <th>storeD</th>\n",
       "      <th>storeE</th>\n",
       "    </tr>\n",
       "  </thead>\n",
       "  <tbody>\n",
       "    <tr>\n",
       "      <th>0</th>\n",
       "      <td>2014-05-04</td>\n",
       "      <td>2643</td>\n",
       "      <td>8257</td>\n",
       "      <td>3893</td>\n",
       "      <td>6231</td>\n",
       "      <td>1294</td>\n",
       "    </tr>\n",
       "    <tr>\n",
       "      <th>1</th>\n",
       "      <td>2014-05-11</td>\n",
       "      <td>6444</td>\n",
       "      <td>5736</td>\n",
       "      <td>5634</td>\n",
       "      <td>7092</td>\n",
       "      <td>2907</td>\n",
       "    </tr>\n",
       "    <tr>\n",
       "      <th>2</th>\n",
       "      <td>2014-05-18</td>\n",
       "      <td>9646</td>\n",
       "      <td>2552</td>\n",
       "      <td>4253</td>\n",
       "      <td>5447</td>\n",
       "      <td>4736</td>\n",
       "    </tr>\n",
       "    <tr>\n",
       "      <th>3</th>\n",
       "      <td>2014-05-25</td>\n",
       "      <td>5960</td>\n",
       "      <td>10740</td>\n",
       "      <td>8264</td>\n",
       "      <td>6063</td>\n",
       "      <td>949</td>\n",
       "    </tr>\n",
       "    <tr>\n",
       "      <th>4</th>\n",
       "      <td>2014-06-01</td>\n",
       "      <td>7412</td>\n",
       "      <td>7374</td>\n",
       "      <td>3208</td>\n",
       "      <td>3985</td>\n",
       "      <td>3023</td>\n",
       "    </tr>\n",
       "  </tbody>\n",
       "</table>\n",
       "</div>"
      ],
      "text/plain": [
       "         week  storeA  storeB  storeC  storeD  storeE\n",
       "0  2014-05-04    2643    8257    3893    6231    1294\n",
       "1  2014-05-11    6444    5736    5634    7092    2907\n",
       "2  2014-05-18    9646    2552    4253    5447    4736\n",
       "3  2014-05-25    5960   10740    8264    6063     949\n",
       "4  2014-06-01    7412    7374    3208    3985    3023"
      ]
     },
     "execution_count": 47,
     "metadata": {},
     "output_type": "execute_result"
    }
   ],
   "source": [
    "# explore data\n",
    "df.head()"
   ]
  },
  {
   "cell_type": "code",
   "execution_count": 48,
   "metadata": {},
   "outputs": [],
   "source": [
    "# total sales for the last month\n",
    "type(df['week'][0])\n",
    "\n",
    "df['week'] = pd.to_datetime(df['week'])\n",
    "x = df[df['week'] == '2014-05-04']"
   ]
  },
  {
   "cell_type": "code",
   "execution_count": 49,
   "metadata": {},
   "outputs": [
    {
     "data": {
      "text/plain": [
       "{2014, 2015, 2016, 2017, 2018}"
      ]
     },
     "execution_count": 49,
     "metadata": {},
     "output_type": "execute_result"
    }
   ],
   "source": [
    "# Years of data included\n",
    "year = pd.DatetimeIndex(df['week']).year\n",
    "set(year)"
   ]
  },
  {
   "cell_type": "code",
   "execution_count": 54,
   "metadata": {},
   "outputs": [
    {
     "data": {
      "text/html": [
       "<div>\n",
       "<style scoped>\n",
       "    .dataframe tbody tr th:only-of-type {\n",
       "        vertical-align: middle;\n",
       "    }\n",
       "\n",
       "    .dataframe tbody tr th {\n",
       "        vertical-align: top;\n",
       "    }\n",
       "\n",
       "    .dataframe thead th {\n",
       "        text-align: right;\n",
       "    }\n",
       "</style>\n",
       "<table border=\"1\" class=\"dataframe\">\n",
       "  <thead>\n",
       "    <tr style=\"text-align: right;\">\n",
       "      <th></th>\n",
       "      <th>week</th>\n",
       "      <th>storeA</th>\n",
       "      <th>storeB</th>\n",
       "      <th>storeC</th>\n",
       "      <th>storeD</th>\n",
       "      <th>storeE</th>\n",
       "      <th>year</th>\n",
       "      <th>month</th>\n",
       "      <th>day</th>\n",
       "    </tr>\n",
       "  </thead>\n",
       "  <tbody>\n",
       "    <tr>\n",
       "      <th>190</th>\n",
       "      <td>2017-12-24</td>\n",
       "      <td>8976</td>\n",
       "      <td>9503</td>\n",
       "      <td>6240</td>\n",
       "      <td>3882</td>\n",
       "      <td>2890</td>\n",
       "      <td>2017</td>\n",
       "      <td>12</td>\n",
       "      <td>24</td>\n",
       "    </tr>\n",
       "    <tr>\n",
       "      <th>191</th>\n",
       "      <td>2017-12-31</td>\n",
       "      <td>11875</td>\n",
       "      <td>1527</td>\n",
       "      <td>6711</td>\n",
       "      <td>5265</td>\n",
       "      <td>1701</td>\n",
       "      <td>2017</td>\n",
       "      <td>12</td>\n",
       "      <td>31</td>\n",
       "    </tr>\n",
       "    <tr>\n",
       "      <th>192</th>\n",
       "      <td>2018-01-07</td>\n",
       "      <td>8978</td>\n",
       "      <td>11312</td>\n",
       "      <td>4158</td>\n",
       "      <td>5019</td>\n",
       "      <td>3842</td>\n",
       "      <td>2018</td>\n",
       "      <td>1</td>\n",
       "      <td>7</td>\n",
       "    </tr>\n",
       "    <tr>\n",
       "      <th>193</th>\n",
       "      <td>2018-01-14</td>\n",
       "      <td>6963</td>\n",
       "      <td>4014</td>\n",
       "      <td>4215</td>\n",
       "      <td>7153</td>\n",
       "      <td>3097</td>\n",
       "      <td>2018</td>\n",
       "      <td>1</td>\n",
       "      <td>14</td>\n",
       "    </tr>\n",
       "    <tr>\n",
       "      <th>194</th>\n",
       "      <td>2018-01-21</td>\n",
       "      <td>5553</td>\n",
       "      <td>3971</td>\n",
       "      <td>3761</td>\n",
       "      <td>6255</td>\n",
       "      <td>3071</td>\n",
       "      <td>2018</td>\n",
       "      <td>1</td>\n",
       "      <td>21</td>\n",
       "    </tr>\n",
       "    <tr>\n",
       "      <th>195</th>\n",
       "      <td>2018-01-28</td>\n",
       "      <td>282</td>\n",
       "      <td>6351</td>\n",
       "      <td>7759</td>\n",
       "      <td>5558</td>\n",
       "      <td>1028</td>\n",
       "      <td>2018</td>\n",
       "      <td>1</td>\n",
       "      <td>28</td>\n",
       "    </tr>\n",
       "    <tr>\n",
       "      <th>196</th>\n",
       "      <td>2018-02-04</td>\n",
       "      <td>4853</td>\n",
       "      <td>6503</td>\n",
       "      <td>4187</td>\n",
       "      <td>5956</td>\n",
       "      <td>1458</td>\n",
       "      <td>2018</td>\n",
       "      <td>2</td>\n",
       "      <td>4</td>\n",
       "    </tr>\n",
       "    <tr>\n",
       "      <th>197</th>\n",
       "      <td>2018-02-11</td>\n",
       "      <td>9202</td>\n",
       "      <td>3677</td>\n",
       "      <td>4540</td>\n",
       "      <td>6186</td>\n",
       "      <td>243</td>\n",
       "      <td>2018</td>\n",
       "      <td>2</td>\n",
       "      <td>11</td>\n",
       "    </tr>\n",
       "    <tr>\n",
       "      <th>198</th>\n",
       "      <td>2018-02-18</td>\n",
       "      <td>3512</td>\n",
       "      <td>7511</td>\n",
       "      <td>4151</td>\n",
       "      <td>5596</td>\n",
       "      <td>3501</td>\n",
       "      <td>2018</td>\n",
       "      <td>2</td>\n",
       "      <td>18</td>\n",
       "    </tr>\n",
       "    <tr>\n",
       "      <th>199</th>\n",
       "      <td>2018-02-25</td>\n",
       "      <td>7560</td>\n",
       "      <td>6904</td>\n",
       "      <td>3569</td>\n",
       "      <td>5045</td>\n",
       "      <td>2585</td>\n",
       "      <td>2018</td>\n",
       "      <td>2</td>\n",
       "      <td>25</td>\n",
       "    </tr>\n",
       "  </tbody>\n",
       "</table>\n",
       "</div>"
      ],
      "text/plain": [
       "          week  storeA  storeB  storeC  storeD  storeE  year  month  day\n",
       "190 2017-12-24    8976    9503    6240    3882    2890  2017     12   24\n",
       "191 2017-12-31   11875    1527    6711    5265    1701  2017     12   31\n",
       "192 2018-01-07    8978   11312    4158    5019    3842  2018      1    7\n",
       "193 2018-01-14    6963    4014    4215    7153    3097  2018      1   14\n",
       "194 2018-01-21    5553    3971    3761    6255    3071  2018      1   21\n",
       "195 2018-01-28     282    6351    7759    5558    1028  2018      1   28\n",
       "196 2018-02-04    4853    6503    4187    5956    1458  2018      2    4\n",
       "197 2018-02-11    9202    3677    4540    6186     243  2018      2   11\n",
       "198 2018-02-18    3512    7511    4151    5596    3501  2018      2   18\n",
       "199 2018-02-25    7560    6904    3569    5045    2585  2018      2   25"
      ]
     },
     "execution_count": 54,
     "metadata": {},
     "output_type": "execute_result"
    }
   ],
   "source": [
    "df['year'] = df['week'].dt.year\n",
    "df['month'] = df['week'].dt.month\n",
    "df['day'] = df['week'].dt.day\n",
    "df.tail(10)"
   ]
  },
  {
   "cell_type": "code",
   "execution_count": 52,
   "metadata": {},
   "outputs": [
    {
     "data": {
      "text/plain": [
       "{'storeA': 115686,\n",
       " 'storeB': 97272,\n",
       " 'storeC': 90668,\n",
       " 'storeD': 87897,\n",
       " 'storeE': 37272}"
      ]
     },
     "execution_count": 52,
     "metadata": {},
     "output_type": "execute_result"
    }
   ],
   "source": [
    "df_final = df[(df['month'] == 12)]\n",
    "df_final\n",
    "\n",
    "dict1 = dict()\n",
    "\n",
    "for col in df.columns:\n",
    "    if col[:5] == 'store':\n",
    "        total = df_final[col].sum()\n",
    "        dict1[col] = total\n",
    "dict1"
   ]
  },
  {
   "cell_type": "code",
   "execution_count": 24,
   "metadata": {},
   "outputs": [
    {
     "data": {
      "text/html": [
       "<div>\n",
       "<style scoped>\n",
       "    .dataframe tbody tr th:only-of-type {\n",
       "        vertical-align: middle;\n",
       "    }\n",
       "\n",
       "    .dataframe tbody tr th {\n",
       "        vertical-align: top;\n",
       "    }\n",
       "\n",
       "    .dataframe thead th {\n",
       "        text-align: right;\n",
       "    }\n",
       "</style>\n",
       "<table border=\"1\" class=\"dataframe\">\n",
       "  <thead>\n",
       "    <tr style=\"text-align: right;\">\n",
       "      <th></th>\n",
       "      <th>Stores</th>\n",
       "      <th>Total Sales</th>\n",
       "    </tr>\n",
       "  </thead>\n",
       "  <tbody>\n",
       "    <tr>\n",
       "      <th>0</th>\n",
       "      <td>storeA</td>\n",
       "      <td>87591</td>\n",
       "    </tr>\n",
       "    <tr>\n",
       "      <th>1</th>\n",
       "      <td>storeB</td>\n",
       "      <td>79394</td>\n",
       "    </tr>\n",
       "    <tr>\n",
       "      <th>2</th>\n",
       "      <td>storeC</td>\n",
       "      <td>66538</td>\n",
       "    </tr>\n",
       "    <tr>\n",
       "      <th>3</th>\n",
       "      <td>storeD</td>\n",
       "      <td>75190</td>\n",
       "    </tr>\n",
       "    <tr>\n",
       "      <th>4</th>\n",
       "      <td>storeE</td>\n",
       "      <td>27334</td>\n",
       "    </tr>\n",
       "  </tbody>\n",
       "</table>\n",
       "</div>"
      ],
      "text/plain": [
       "   Stores  Total Sales\n",
       "0  storeA        87591\n",
       "1  storeB        79394\n",
       "2  storeC        66538\n",
       "3  storeD        75190\n",
       "4  storeE        27334"
      ]
     },
     "execution_count": 24,
     "metadata": {},
     "output_type": "execute_result"
    }
   ],
   "source": [
    "df_last_month = pd.DataFrame([(k,v) for k, v in dict1.items()], columns=['Stores', 'Total Sales'])\n",
    "df_last_month"
   ]
  },
  {
   "cell_type": "code",
   "execution_count": 71,
   "metadata": {},
   "outputs": [
    {
     "data": {
      "image/png": "[encoded data removed]",
      "text/plain": [
       "<matplotlib.figure.Figure at 0x7f3ceba5bf98>"
      ]
     },
     "metadata": {
      "needs_background": "light"
     },
     "output_type": "display_data"
    }
   ],
   "source": [
    "x = df_last_month['Stores']\n",
    "y = df_last_month['Total Sales']\n",
    "sort = df_last_month.sort_values('Total Sales',ascending=False).Stores\n",
    "sns.barplot(x=x,y=y,data=df_last_month,order=sort);\n",
    "plt.xlabel('Stores')\n",
    "plt.ylabel('Total Sales')\n",
    "plt.title('Total Sales for last month')\n",
    "plt.show()"
   ]
  },
  {
   "cell_type": "code",
   "execution_count": 72,
   "metadata": {},
   "outputs": [
    {
     "data": {
      "image/png": "[encoded data removed]",
      "text/plain": [
       "<matplotlib.figure.Figure at 0x7f3ce86d0dd8>"
      ]
     },
     "metadata": {
      "needs_background": "light"
     },
     "output_type": "display_data"
    }
   ],
   "source": [
    "# Other Way:\n",
    "df.iloc[196:,1:6].sum().plot(kind='bar')\n",
    "plt.xlabel('Stores')\n",
    "plt.ylabel('Total Sales')\n",
    "plt.title('Total Sales for last month')\n",
    "plt.show()"
   ]
  },
  {
   "cell_type": "code",
   "execution_count": 38,
   "metadata": {},
   "outputs": [
    {
     "data": {
      "text/plain": [
       "dict_items([('storeA', 5865.4799999999996), ('storeB', 6756.71), ('storeC', 4942.1049999999996), ('storeD', 5431.4049999999997), ('storeE', 2580.0250000000001)])"
      ]
     },
     "execution_count": 38,
     "metadata": {},
     "output_type": "execute_result"
    }
   ],
   "source": [
    "# average sales\n",
    "dict2 = dict()\n",
    "for col in df.columns:\n",
    "    if col[:5] == 'store':\n",
    "        total = df[col].mean()\n",
    "        dict2[col] = total\n",
    "dict2.items()"
   ]
  },
  {
   "cell_type": "code",
   "execution_count": 40,
   "metadata": {},
   "outputs": [
    {
     "data": {
      "text/html": [
       "<div>\n",
       "<style scoped>\n",
       "    .dataframe tbody tr th:only-of-type {\n",
       "        vertical-align: middle;\n",
       "    }\n",
       "\n",
       "    .dataframe tbody tr th {\n",
       "        vertical-align: top;\n",
       "    }\n",
       "\n",
       "    .dataframe thead th {\n",
       "        text-align: right;\n",
       "    }\n",
       "</style>\n",
       "<table border=\"1\" class=\"dataframe\">\n",
       "  <thead>\n",
       "    <tr style=\"text-align: right;\">\n",
       "      <th></th>\n",
       "      <th>Stores</th>\n",
       "      <th>Avg Sales</th>\n",
       "    </tr>\n",
       "  </thead>\n",
       "  <tbody>\n",
       "    <tr>\n",
       "      <th>0</th>\n",
       "      <td>storeA</td>\n",
       "      <td>5865.480</td>\n",
       "    </tr>\n",
       "    <tr>\n",
       "      <th>1</th>\n",
       "      <td>storeB</td>\n",
       "      <td>6756.710</td>\n",
       "    </tr>\n",
       "    <tr>\n",
       "      <th>2</th>\n",
       "      <td>storeC</td>\n",
       "      <td>4942.105</td>\n",
       "    </tr>\n",
       "    <tr>\n",
       "      <th>3</th>\n",
       "      <td>storeD</td>\n",
       "      <td>5431.405</td>\n",
       "    </tr>\n",
       "    <tr>\n",
       "      <th>4</th>\n",
       "      <td>storeE</td>\n",
       "      <td>2580.025</td>\n",
       "    </tr>\n",
       "  </tbody>\n",
       "</table>\n",
       "</div>"
      ],
      "text/plain": [
       "   Stores  Avg Sales\n",
       "0  storeA   5865.480\n",
       "1  storeB   6756.710\n",
       "2  storeC   4942.105\n",
       "3  storeD   5431.405\n",
       "4  storeE   2580.025"
      ]
     },
     "execution_count": 40,
     "metadata": {},
     "output_type": "execute_result"
    }
   ],
   "source": [
    "df_avg = pd.DataFrame([ (k,v) for k,v in dict2.items()],columns=['Stores','Avg Sales'])\n",
    "df_avg"
   ]
  },
  {
   "cell_type": "code",
   "execution_count": 70,
   "metadata": {},
   "outputs": [
    {
     "data": {
      "image/png": "[encoded data removed]",
      "text/plain": [
       "<matplotlib.figure.Figure at 0x7f3ce83f6518>"
      ]
     },
     "metadata": {
      "needs_background": "light"
     },
     "output_type": "display_data"
    }
   ],
   "source": [
    "x = df_avg['Stores']\n",
    "y = df_avg['Avg Sales']\n",
    "sort = df_avg.sort_values('Avg Sales',ascending=False).Stores\n",
    "sns.barplot(x=x,y=y,data=df_last_month,order=sort);\n",
    "plt.xlabel('Stores')\n",
    "plt.ylabel('Total Sales')\n",
    "plt.title('Average Sales')\n",
    "plt.show()"
   ]
  },
  {
   "cell_type": "code",
   "execution_count": 43,
   "metadata": {},
   "outputs": [
    {
     "data": {
      "image/png": "[encoded data removed]",
      "text/plain": [
       "<matplotlib.figure.Figure at 0x7f3ce8754518>"
      ]
     },
     "metadata": {},
     "output_type": "display_data"
    }
   ],
   "source": [
    "# Other way:\n",
    "df.mean().plot(kind='pie');"
   ]
  },
  {
   "cell_type": "code",
   "execution_count": 8,
   "metadata": {},
   "outputs": [
    {
     "data": {
      "text/html": [
       "<div>\n",
       "<style scoped>\n",
       "    .dataframe tbody tr th:only-of-type {\n",
       "        vertical-align: middle;\n",
       "    }\n",
       "\n",
       "    .dataframe tbody tr th {\n",
       "        vertical-align: top;\n",
       "    }\n",
       "\n",
       "    .dataframe thead th {\n",
       "        text-align: right;\n",
       "    }\n",
       "</style>\n",
       "<table border=\"1\" class=\"dataframe\">\n",
       "  <thead>\n",
       "    <tr style=\"text-align: right;\">\n",
       "      <th></th>\n",
       "      <th>week</th>\n",
       "      <th>storeA</th>\n",
       "      <th>storeB</th>\n",
       "      <th>storeC</th>\n",
       "      <th>storeD</th>\n",
       "      <th>storeE</th>\n",
       "      <th>year</th>\n",
       "      <th>month</th>\n",
       "      <th>day</th>\n",
       "    </tr>\n",
       "  </thead>\n",
       "  <tbody>\n",
       "    <tr>\n",
       "      <th>97</th>\n",
       "      <td>2016-03-13</td>\n",
       "      <td>2054</td>\n",
       "      <td>1390</td>\n",
       "      <td>5112</td>\n",
       "      <td>5513</td>\n",
       "      <td>2536</td>\n",
       "      <td>2016</td>\n",
       "      <td>3</td>\n",
       "      <td>13</td>\n",
       "    </tr>\n",
       "  </tbody>\n",
       "</table>\n",
       "</div>"
      ],
      "text/plain": [
       "         week  storeA  storeB  storeC  storeD  storeE  year  month  day\n",
       "97 2016-03-13    2054    1390    5112    5513    2536  2016      3   13"
      ]
     },
     "execution_count": 8,
     "metadata": {},
     "output_type": "execute_result"
    }
   ],
   "source": [
    "# sales on march 13, 2016\n",
    "df_march = df[df['week'] == '2016-03-13']\n",
    "df_march"
   ]
  },
  {
   "cell_type": "code",
   "execution_count": 69,
   "metadata": {},
   "outputs": [
    {
     "data": {
      "image/png": "[encoded data removed]",
      "text/plain": [
       "<matplotlib.figure.Figure at 0x7f3ce86c22e8>"
      ]
     },
     "metadata": {
      "needs_background": "light"
     },
     "output_type": "display_data"
    }
   ],
   "source": [
    "df.iloc[97,1:6].plot(kind='bar');\n",
    "plt.xlabel('Stores')\n",
    "plt.ylabel('Total Sales')\n",
    "plt.title('Sales on march 13, 2016')\n",
    "plt.show()"
   ]
  },
  {
   "cell_type": "code",
   "execution_count": 94,
   "metadata": {},
   "outputs": [
    {
     "data": {
      "text/plain": [
       "927"
      ]
     },
     "execution_count": 94,
     "metadata": {},
     "output_type": "execute_result"
    }
   ],
   "source": [
    "# Lowest sales for store c\n",
    "df_c = df['storeC'].min(skipna=True)\n",
    "df_c"
   ]
  },
  {
   "cell_type": "code",
   "execution_count": 95,
   "metadata": {},
   "outputs": [
    {
     "data": {
      "text/plain": [
       "Timestamp('2014-07-06 00:00:00')"
      ]
     },
     "execution_count": 95,
     "metadata": {},
     "output_type": "execute_result"
    }
   ],
   "source": [
    "# worst week for store C\n",
    "df.iloc[9,0] "
   ]
  },
  {
   "cell_type": "code",
   "execution_count": 10,
   "metadata": {},
   "outputs": [
    {
     "data": {
      "text/html": [
       "<div>\n",
       "<style scoped>\n",
       "    .dataframe tbody tr th:only-of-type {\n",
       "        vertical-align: middle;\n",
       "    }\n",
       "\n",
       "    .dataframe tbody tr th {\n",
       "        vertical-align: top;\n",
       "    }\n",
       "\n",
       "    .dataframe thead th {\n",
       "        text-align: right;\n",
       "    }\n",
       "</style>\n",
       "<table border=\"1\" class=\"dataframe\">\n",
       "  <thead>\n",
       "    <tr style=\"text-align: right;\">\n",
       "      <th></th>\n",
       "      <th>week</th>\n",
       "      <th>storeA</th>\n",
       "      <th>storeB</th>\n",
       "      <th>storeC</th>\n",
       "      <th>storeD</th>\n",
       "      <th>storeE</th>\n",
       "      <th>year</th>\n",
       "      <th>month</th>\n",
       "      <th>day</th>\n",
       "    </tr>\n",
       "  </thead>\n",
       "  <tbody>\n",
       "    <tr>\n",
       "      <th>185</th>\n",
       "      <td>2017-11-19</td>\n",
       "      <td>9960</td>\n",
       "      <td>8529</td>\n",
       "      <td>4501</td>\n",
       "      <td>7631</td>\n",
       "      <td>505</td>\n",
       "      <td>2017</td>\n",
       "      <td>11</td>\n",
       "      <td>19</td>\n",
       "    </tr>\n",
       "    <tr>\n",
       "      <th>186</th>\n",
       "      <td>2017-11-26</td>\n",
       "      <td>6866</td>\n",
       "      <td>5011</td>\n",
       "      <td>5401</td>\n",
       "      <td>4736</td>\n",
       "      <td>3232</td>\n",
       "      <td>2017</td>\n",
       "      <td>11</td>\n",
       "      <td>26</td>\n",
       "    </tr>\n",
       "    <tr>\n",
       "      <th>187</th>\n",
       "      <td>2017-12-03</td>\n",
       "      <td>5179</td>\n",
       "      <td>3850</td>\n",
       "      <td>6121</td>\n",
       "      <td>6778</td>\n",
       "      <td>113</td>\n",
       "      <td>2017</td>\n",
       "      <td>12</td>\n",
       "      <td>3</td>\n",
       "    </tr>\n",
       "    <tr>\n",
       "      <th>188</th>\n",
       "      <td>2017-12-10</td>\n",
       "      <td>9348</td>\n",
       "      <td>5624</td>\n",
       "      <td>5446</td>\n",
       "      <td>5448</td>\n",
       "      <td>227</td>\n",
       "      <td>2017</td>\n",
       "      <td>12</td>\n",
       "      <td>10</td>\n",
       "    </tr>\n",
       "    <tr>\n",
       "      <th>189</th>\n",
       "      <td>2017-12-17</td>\n",
       "      <td>5310</td>\n",
       "      <td>8647</td>\n",
       "      <td>5680</td>\n",
       "      <td>7049</td>\n",
       "      <td>3578</td>\n",
       "      <td>2017</td>\n",
       "      <td>12</td>\n",
       "      <td>17</td>\n",
       "    </tr>\n",
       "    <tr>\n",
       "      <th>190</th>\n",
       "      <td>2017-12-24</td>\n",
       "      <td>8976</td>\n",
       "      <td>9503</td>\n",
       "      <td>6240</td>\n",
       "      <td>3882</td>\n",
       "      <td>2890</td>\n",
       "      <td>2017</td>\n",
       "      <td>12</td>\n",
       "      <td>24</td>\n",
       "    </tr>\n",
       "    <tr>\n",
       "      <th>191</th>\n",
       "      <td>2017-12-31</td>\n",
       "      <td>11875</td>\n",
       "      <td>1527</td>\n",
       "      <td>6711</td>\n",
       "      <td>5265</td>\n",
       "      <td>1701</td>\n",
       "      <td>2017</td>\n",
       "      <td>12</td>\n",
       "      <td>31</td>\n",
       "    </tr>\n",
       "    <tr>\n",
       "      <th>192</th>\n",
       "      <td>2018-01-07</td>\n",
       "      <td>8978</td>\n",
       "      <td>11312</td>\n",
       "      <td>4158</td>\n",
       "      <td>5019</td>\n",
       "      <td>3842</td>\n",
       "      <td>2018</td>\n",
       "      <td>1</td>\n",
       "      <td>7</td>\n",
       "    </tr>\n",
       "    <tr>\n",
       "      <th>193</th>\n",
       "      <td>2018-01-14</td>\n",
       "      <td>6963</td>\n",
       "      <td>4014</td>\n",
       "      <td>4215</td>\n",
       "      <td>7153</td>\n",
       "      <td>3097</td>\n",
       "      <td>2018</td>\n",
       "      <td>1</td>\n",
       "      <td>14</td>\n",
       "    </tr>\n",
       "    <tr>\n",
       "      <th>194</th>\n",
       "      <td>2018-01-21</td>\n",
       "      <td>5553</td>\n",
       "      <td>3971</td>\n",
       "      <td>3761</td>\n",
       "      <td>6255</td>\n",
       "      <td>3071</td>\n",
       "      <td>2018</td>\n",
       "      <td>1</td>\n",
       "      <td>21</td>\n",
       "    </tr>\n",
       "    <tr>\n",
       "      <th>195</th>\n",
       "      <td>2018-01-28</td>\n",
       "      <td>282</td>\n",
       "      <td>6351</td>\n",
       "      <td>7759</td>\n",
       "      <td>5558</td>\n",
       "      <td>1028</td>\n",
       "      <td>2018</td>\n",
       "      <td>1</td>\n",
       "      <td>28</td>\n",
       "    </tr>\n",
       "    <tr>\n",
       "      <th>196</th>\n",
       "      <td>2018-02-04</td>\n",
       "      <td>4853</td>\n",
       "      <td>6503</td>\n",
       "      <td>4187</td>\n",
       "      <td>5956</td>\n",
       "      <td>1458</td>\n",
       "      <td>2018</td>\n",
       "      <td>2</td>\n",
       "      <td>4</td>\n",
       "    </tr>\n",
       "    <tr>\n",
       "      <th>197</th>\n",
       "      <td>2018-02-11</td>\n",
       "      <td>9202</td>\n",
       "      <td>3677</td>\n",
       "      <td>4540</td>\n",
       "      <td>6186</td>\n",
       "      <td>243</td>\n",
       "      <td>2018</td>\n",
       "      <td>2</td>\n",
       "      <td>11</td>\n",
       "    </tr>\n",
       "    <tr>\n",
       "      <th>198</th>\n",
       "      <td>2018-02-18</td>\n",
       "      <td>3512</td>\n",
       "      <td>7511</td>\n",
       "      <td>4151</td>\n",
       "      <td>5596</td>\n",
       "      <td>3501</td>\n",
       "      <td>2018</td>\n",
       "      <td>2</td>\n",
       "      <td>18</td>\n",
       "    </tr>\n",
       "    <tr>\n",
       "      <th>199</th>\n",
       "      <td>2018-02-25</td>\n",
       "      <td>7560</td>\n",
       "      <td>6904</td>\n",
       "      <td>3569</td>\n",
       "      <td>5045</td>\n",
       "      <td>2585</td>\n",
       "      <td>2018</td>\n",
       "      <td>2</td>\n",
       "      <td>25</td>\n",
       "    </tr>\n",
       "  </tbody>\n",
       "</table>\n",
       "</div>"
      ],
      "text/plain": [
       "          week  storeA  storeB  storeC  storeD  storeE  year  month  day\n",
       "185 2017-11-19    9960    8529    4501    7631     505  2017     11   19\n",
       "186 2017-11-26    6866    5011    5401    4736    3232  2017     11   26\n",
       "187 2017-12-03    5179    3850    6121    6778     113  2017     12    3\n",
       "188 2017-12-10    9348    5624    5446    5448     227  2017     12   10\n",
       "189 2017-12-17    5310    8647    5680    7049    3578  2017     12   17\n",
       "190 2017-12-24    8976    9503    6240    3882    2890  2017     12   24\n",
       "191 2017-12-31   11875    1527    6711    5265    1701  2017     12   31\n",
       "192 2018-01-07    8978   11312    4158    5019    3842  2018      1    7\n",
       "193 2018-01-14    6963    4014    4215    7153    3097  2018      1   14\n",
       "194 2018-01-21    5553    3971    3761    6255    3071  2018      1   21\n",
       "195 2018-01-28     282    6351    7759    5558    1028  2018      1   28\n",
       "196 2018-02-04    4853    6503    4187    5956    1458  2018      2    4\n",
       "197 2018-02-11    9202    3677    4540    6186     243  2018      2   11\n",
       "198 2018-02-18    3512    7511    4151    5596    3501  2018      2   18\n",
       "199 2018-02-25    7560    6904    3569    5045    2585  2018      2   25"
      ]
     },
     "execution_count": 10,
     "metadata": {},
     "output_type": "execute_result"
    }
   ],
   "source": [
    "# total sales during most recent 3 month period\n",
    "df.tail(15)"
   ]
  },
  {
   "cell_type": "code",
   "execution_count": 75,
   "metadata": {},
   "outputs": [
    {
     "data": {
      "image/png": "[encoded data removed]",
      "text/plain": [
       "<matplotlib.figure.Figure at 0x7f3ce844bdd8>"
      ]
     },
     "metadata": {
      "needs_background": "light"
     },
     "output_type": "display_data"
    }
   ],
   "source": [
    "df_last = df.iloc[187:200,1:6]\n",
    "df_last.sum().plot(kind='bar')\n",
    "plt.xlabel('Stores')\n",
    "plt.ylabel('Total Sales')\n",
    "plt.title('Total sales during most recent 3 month period')\n",
    "plt.show()"
   ]
  },
  {
   "cell_type": "code",
   "execution_count": 12,
   "metadata": {},
   "outputs": [
    {
     "data": {
      "text/plain": [
       "{'storeA': 87591,\n",
       " 'storeB': 79394,\n",
       " 'storeC': 66538,\n",
       " 'storeD': 75190,\n",
       " 'storeE': 27334}"
      ]
     },
     "execution_count": 12,
     "metadata": {},
     "output_type": "execute_result"
    }
   ],
   "source": [
    "dict1 = dict()\n",
    "for col in df_last.columns:\n",
    "    if col[:5] == 'store':\n",
    "        total = df_last[col].sum()\n",
    "        dict1[col] = total\n",
    "dict1"
   ]
  }
 ],
 "metadata": {
  "kernelspec": {
   "display_name": "Python 3",
   "language": "python",
   "name": "python3"
  },
  "language_info": {
   "codemirror_mode": {
    "name": "ipython",
    "version": 3
   },
   "file_extension": ".py",
   "mimetype": "text/x-python",
   "name": "python",
   "nbconvert_exporter": "python",
   "pygments_lexer": "ipython3",
   "version": "3.6.3"
  }
 },
 "nbformat": 4,
 "nbformat_minor": 2
}
